{
 "cells": [
  {
   "cell_type": "markdown",
   "id": "ff5c58fb",
   "metadata": {},
   "source": [
    "# Trabajo No.4\n",
    "## Preprocesado\n",
    "#### integrantes:Jose Foronda y Alexa Paternina"
   ]
  },
  {
   "cell_type": "code",
   "execution_count": 1,
   "id": "573bc8d9",
   "metadata": {},
   "outputs": [],
   "source": [
    "import pandas as pd\n",
    "import numpy as np\n",
    "import seaborn as sns\n",
    "import matplotlib.pyplot as plt\n",
    "from sklearn.model_selection import train_test_split, GridSearchCV, learning_curve\n",
    "from sklearn.preprocessing import StandardScaler\n",
    "from sklearn.pipeline import Pipeline\n",
    "from sklearn.svm import SVC\n",
    "from sklearn.ensemble import RandomForestClassifier\n",
    "from sklearn.metrics import classification_report, confusion_matrix"
   ]
  },
  {
   "cell_type": "code",
   "execution_count": 3,
   "id": "22c77f0d",
   "metadata": {},
   "outputs": [],
   "source": [
    "df = pd.read_csv('datosenergeticos.csv', sep=',')"
   ]
  },
  {
   "cell_type": "code",
   "execution_count": 6,
   "id": "3d3f8ffd",
   "metadata": {
    "scrolled": true
   },
   "outputs": [
    {
     "name": "stdout",
     "output_type": "stream",
     "text": [
      "<class 'pandas.core.frame.DataFrame'>\n",
      "RangeIndex: 15000 entries, 0 to 14999\n",
      "Data columns (total 13 columns):\n",
      " #   Column                         Non-Null Count  Dtype  \n",
      "---  ------                         --------------  -----  \n",
      " 0   Type_of_Renewable_Energy       15000 non-null  int64  \n",
      " 1   Installed_Capacity_MW          15000 non-null  float64\n",
      " 2   Energy_Production_MWh          15000 non-null  float64\n",
      " 3   Energy_Consumption_MWh         15000 non-null  float64\n",
      " 4   Energy_Storage_Capacity_MWh    15000 non-null  float64\n",
      " 5   Storage_Efficiency_Percentage  15000 non-null  float64\n",
      " 6   Grid_Integration_Level         15000 non-null  int64  \n",
      " 7   Initial_Investment_USD         15000 non-null  float64\n",
      " 8   Funding_Sources                15000 non-null  int64  \n",
      " 9   Financial_Incentives_USD       15000 non-null  float64\n",
      " 10  GHG_Emission_Reduction_tCO2e   15000 non-null  float64\n",
      " 11  Air_Pollution_Reduction_Index  15000 non-null  float64\n",
      " 12  Jobs_Created                   15000 non-null  int64  \n",
      "dtypes: float64(9), int64(4)\n",
      "memory usage: 1.5 MB\n",
      "None\n"
     ]
    }
   ],
   "source": [
    "print(df.info())"
   ]
  },
  {
   "cell_type": "code",
   "execution_count": 8,
   "id": "69de577f",
   "metadata": {
    "scrolled": false
   },
   "outputs": [
    {
     "name": "stdout",
     "output_type": "stream",
     "text": [
      "Type_of_Renewable_Energy         0\n",
      "Installed_Capacity_MW            0\n",
      "Energy_Production_MWh            0\n",
      "Energy_Consumption_MWh           0\n",
      "Energy_Storage_Capacity_MWh      0\n",
      "Storage_Efficiency_Percentage    0\n",
      "Grid_Integration_Level           0\n",
      "Initial_Investment_USD           0\n",
      "Funding_Sources                  0\n",
      "Financial_Incentives_USD         0\n",
      "GHG_Emission_Reduction_tCO2e     0\n",
      "Air_Pollution_Reduction_Index    0\n",
      "Jobs_Created                     0\n",
      "dtype: int64\n"
     ]
    }
   ],
   "source": [
    "print(df.isna().sum())#no hay ningun dato faltante por eliminar o añdir un valor"
   ]
  },
  {
   "cell_type": "code",
   "execution_count": 10,
   "id": "d4ca6306",
   "metadata": {},
   "outputs": [],
   "source": [
    "df.drop_duplicates(inplace=True) #tampoco hay datos duplicados"
   ]
  },
  {
   "cell_type": "code",
   "execution_count": 11,
   "id": "b8d2fc43",
   "metadata": {},
   "outputs": [
    {
     "name": "stdout",
     "output_type": "stream",
     "text": [
      "<class 'pandas.core.frame.DataFrame'>\n",
      "RangeIndex: 15000 entries, 0 to 14999\n",
      "Data columns (total 13 columns):\n",
      " #   Column                         Non-Null Count  Dtype  \n",
      "---  ------                         --------------  -----  \n",
      " 0   Type_of_Renewable_Energy       15000 non-null  int64  \n",
      " 1   Installed_Capacity_MW          15000 non-null  float64\n",
      " 2   Energy_Production_MWh          15000 non-null  float64\n",
      " 3   Energy_Consumption_MWh         15000 non-null  float64\n",
      " 4   Energy_Storage_Capacity_MWh    15000 non-null  float64\n",
      " 5   Storage_Efficiency_Percentage  15000 non-null  float64\n",
      " 6   Grid_Integration_Level         15000 non-null  int64  \n",
      " 7   Initial_Investment_USD         15000 non-null  float64\n",
      " 8   Funding_Sources                15000 non-null  int64  \n",
      " 9   Financial_Incentives_USD       15000 non-null  float64\n",
      " 10  GHG_Emission_Reduction_tCO2e   15000 non-null  float64\n",
      " 11  Air_Pollution_Reduction_Index  15000 non-null  float64\n",
      " 12  Jobs_Created                   15000 non-null  int64  \n",
      "dtypes: float64(9), int64(4)\n",
      "memory usage: 1.5 MB\n",
      "None\n"
     ]
    }
   ],
   "source": [
    "print(df.info())"
   ]
  }
 ],
 "metadata": {
  "kernelspec": {
   "display_name": "Python 3 (ipykernel)",
   "language": "python",
   "name": "python3"
  },
  "language_info": {
   "codemirror_mode": {
    "name": "ipython",
    "version": 3
   },
   "file_extension": ".py",
   "mimetype": "text/x-python",
   "name": "python",
   "nbconvert_exporter": "python",
   "pygments_lexer": "ipython3",
   "version": "3.11.5"
  }
 },
 "nbformat": 4,
 "nbformat_minor": 5
}
